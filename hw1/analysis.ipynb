{
 "cells": [
  {
   "cell_type": "markdown",
   "id": "c4f57819-72a9-4b05-9f86-a54d47bf1335",
   "metadata": {},
   "source": [
    "Data used for the [SpanConveRT paper](https://arxiv.org/pdf/2005.08866.pdf):\n",
    "\n",
    "1) RESTAURANTS-8K: It comprises conversations from a commercial restaurant booking\r\n",
    "system, and covers 5 slots essential for the booking\r\n",
    "task: date, time, people, first name, last name.\n",
    "\n",
    "2) 4 DSTC8-based: We extract span annotated data sets from\r\n",
    "SGDD in four different domains based on their\r\n",
    "large variety of slots: (1) bus and coach booking\r\n",
    "(labelled Buses_1), (2) buying tickets for events\r\n",
    "(Events_1), (3) property viewing (Homes_1) and\r\n",
    "renting cars (RentalCars_1)."
   ]
  },
  {
   "cell_type": "markdown",
   "id": "6fa835cf-f9dd-42e9-b22c-cbbe50bc6607",
   "metadata": {},
   "source": [
    "Domain"
   ]
  },
  {
   "cell_type": "markdown",
   "id": "8fff5c08-7d21-4b74-9f1d-c5988b6cdd83",
   "metadata": {},
   "source": [
    "Modality"
   ]
  },
  {
   "cell_type": "markdown",
   "id": "ecc16d7c-1146-47b6-9d5e-23b2364cacb8",
   "metadata": {},
   "source": [
    "Original URL: https://github.com/PolyAI-LDN/task-specific-datasets/tree/master/span_extraction"
   ]
  },
  {
   "cell_type": "markdown",
   "id": "8e4deb25-929c-4945-b773-78ba6ba4b545",
   "metadata": {},
   "source": [
    "How it was collected"
   ]
  },
  {
   "cell_type": "markdown",
   "id": "e5331a8a-ad9c-4084-8b4c-54241c27c147",
   "metadata": {},
   "source": [
    "What kind of dialogue system/dialogue system component it is designed for"
   ]
  },
  {
   "cell_type": "markdown",
   "id": "6d003f09-0650-4067-ac18-7dd6c0426388",
   "metadata": {},
   "source": [
    "What kind of annotation is present (if any). How the annotation was obtained (human/automatic)"
   ]
  },
  {
   "cell_type": "markdown",
   "id": "bc880222-572b-4975-8228-2dc2e91b6b8e",
   "metadata": {},
   "source": [
    "Dataset format : json"
   ]
  },
  {
   "cell_type": "markdown",
   "id": "ebc6702f-8e73-4d01-bd01-08c266fbf853",
   "metadata": {},
   "source": [
    "License: CC-BY-4.0"
   ]
  },
  {
   "cell_type": "markdown",
   "id": "f9f1f766-4012-4e3d-a22c-ffd434fb75c6",
   "metadata": {},
   "source": [
    "## Total data length\n",
    "(in terms of dialogues, turns, sentences, words, separately for user/system)"
   ]
  },
  {
   "cell_type": "markdown",
   "id": "42148289-a026-419a-80e0-283f124ed892",
   "metadata": {},
   "source": [
    "## Vocabulary length\n",
    "(separate for user/system)"
   ]
  },
  {
   "cell_type": "markdown",
   "id": "9986ef08-6d62-422b-8446-a3284c62dc2a",
   "metadata": {},
   "source": [
    "## Mean/std dev dialogue lengths \n",
    "(in terms of dialogues, turns, words, separately for user/system)"
   ]
  },
  {
   "cell_type": "code",
   "execution_count": null,
   "id": "20c8f76e-4550-441c-94ec-6b0ab504b765",
   "metadata": {},
   "outputs": [],
   "source": []
  }
 ],
 "metadata": {
  "kernelspec": {
   "display_name": "Python 3 (ipykernel)",
   "language": "python",
   "name": "python3"
  },
  "language_info": {
   "codemirror_mode": {
    "name": "ipython",
    "version": 3
   },
   "file_extension": ".py",
   "mimetype": "text/x-python",
   "name": "python",
   "nbconvert_exporter": "python",
   "pygments_lexer": "ipython3",
   "version": "3.9.19"
  }
 },
 "nbformat": 4,
 "nbformat_minor": 5
}
